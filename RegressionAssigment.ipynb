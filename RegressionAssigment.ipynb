{
  "nbformat": 4,
  "nbformat_minor": 0,
  "metadata": {
    "colab": {
      "name": "RegressionAssigment.ipynb",
      "provenance": [],
      "collapsed_sections": [],
      "include_colab_link": true
    },
    "kernelspec": {
      "name": "python3",
      "display_name": "Python 3"
    }
  },
  "cells": [
    {
      "cell_type": "markdown",
      "metadata": {
        "id": "view-in-github",
        "colab_type": "text"
      },
      "source": [
        "<a href=\"https://colab.research.google.com/github/Joaom123/huawei-hcia-ia-ifce/blob/main/RegressionAssigment.ipynb\" target=\"_parent\"><img src=\"https://colab.research.google.com/assets/colab-badge.svg\" alt=\"Open In Colab\"/></a>"
      ]
    },
    {
      "cell_type": "markdown",
      "metadata": {
        "id": "gRZRq2_i1Hc8"
      },
      "source": [
        "## **Problem 01**"
      ]
    },
    {
      "cell_type": "markdown",
      "metadata": {
        "id": "TQyZjrhDthzP"
      },
      "source": [
        "For this assigment, we will use the following dataset: \"[House Sales in King County, USA\r\n",
        "](https://www.kaggle.com/harlfoxem/housesalesprediction)\"."
      ]
    },
    {
      "cell_type": "code",
      "metadata": {
        "colab": {
          "base_uri": "https://localhost:8080/",
          "height": 224
        },
        "id": "UZPbHeLyvh11",
        "outputId": "b456bf6d-c72a-4800-ac5e-4ecf23a3d11e"
      },
      "source": [
        "import pandas as pd\r\n",
        "import numpy as np\r\n",
        "\r\n",
        "data = pd.read_csv('https://raw.githubusercontent.com/llSourcell/math_of_machine_learning/master/kc_house_data.csv')\r\n",
        "data.head()"
      ],
      "execution_count": null,
      "outputs": [
        {
          "output_type": "execute_result",
          "data": {
            "text/html": [
              "<div>\n",
              "<style scoped>\n",
              "    .dataframe tbody tr th:only-of-type {\n",
              "        vertical-align: middle;\n",
              "    }\n",
              "\n",
              "    .dataframe tbody tr th {\n",
              "        vertical-align: top;\n",
              "    }\n",
              "\n",
              "    .dataframe thead th {\n",
              "        text-align: right;\n",
              "    }\n",
              "</style>\n",
              "<table border=\"1\" class=\"dataframe\">\n",
              "  <thead>\n",
              "    <tr style=\"text-align: right;\">\n",
              "      <th></th>\n",
              "      <th>id</th>\n",
              "      <th>date</th>\n",
              "      <th>price</th>\n",
              "      <th>bedrooms</th>\n",
              "      <th>bathrooms</th>\n",
              "      <th>sqft_living</th>\n",
              "      <th>sqft_lot</th>\n",
              "      <th>floors</th>\n",
              "      <th>waterfront</th>\n",
              "      <th>view</th>\n",
              "      <th>condition</th>\n",
              "      <th>grade</th>\n",
              "      <th>sqft_above</th>\n",
              "      <th>sqft_basement</th>\n",
              "      <th>yr_built</th>\n",
              "      <th>yr_renovated</th>\n",
              "      <th>zipcode</th>\n",
              "      <th>lat</th>\n",
              "      <th>long</th>\n",
              "      <th>sqft_living15</th>\n",
              "      <th>sqft_lot15</th>\n",
              "    </tr>\n",
              "  </thead>\n",
              "  <tbody>\n",
              "    <tr>\n",
              "      <th>0</th>\n",
              "      <td>7129300520</td>\n",
              "      <td>20141013T000000</td>\n",
              "      <td>221900.0</td>\n",
              "      <td>3</td>\n",
              "      <td>1.00</td>\n",
              "      <td>1180</td>\n",
              "      <td>5650</td>\n",
              "      <td>1.0</td>\n",
              "      <td>0</td>\n",
              "      <td>0</td>\n",
              "      <td>3</td>\n",
              "      <td>7</td>\n",
              "      <td>1180</td>\n",
              "      <td>0</td>\n",
              "      <td>1955</td>\n",
              "      <td>0</td>\n",
              "      <td>98178</td>\n",
              "      <td>47.5112</td>\n",
              "      <td>-122.257</td>\n",
              "      <td>1340</td>\n",
              "      <td>5650</td>\n",
              "    </tr>\n",
              "    <tr>\n",
              "      <th>1</th>\n",
              "      <td>6414100192</td>\n",
              "      <td>20141209T000000</td>\n",
              "      <td>538000.0</td>\n",
              "      <td>3</td>\n",
              "      <td>2.25</td>\n",
              "      <td>2570</td>\n",
              "      <td>7242</td>\n",
              "      <td>2.0</td>\n",
              "      <td>0</td>\n",
              "      <td>0</td>\n",
              "      <td>3</td>\n",
              "      <td>7</td>\n",
              "      <td>2170</td>\n",
              "      <td>400</td>\n",
              "      <td>1951</td>\n",
              "      <td>1991</td>\n",
              "      <td>98125</td>\n",
              "      <td>47.7210</td>\n",
              "      <td>-122.319</td>\n",
              "      <td>1690</td>\n",
              "      <td>7639</td>\n",
              "    </tr>\n",
              "    <tr>\n",
              "      <th>2</th>\n",
              "      <td>5631500400</td>\n",
              "      <td>20150225T000000</td>\n",
              "      <td>180000.0</td>\n",
              "      <td>2</td>\n",
              "      <td>1.00</td>\n",
              "      <td>770</td>\n",
              "      <td>10000</td>\n",
              "      <td>1.0</td>\n",
              "      <td>0</td>\n",
              "      <td>0</td>\n",
              "      <td>3</td>\n",
              "      <td>6</td>\n",
              "      <td>770</td>\n",
              "      <td>0</td>\n",
              "      <td>1933</td>\n",
              "      <td>0</td>\n",
              "      <td>98028</td>\n",
              "      <td>47.7379</td>\n",
              "      <td>-122.233</td>\n",
              "      <td>2720</td>\n",
              "      <td>8062</td>\n",
              "    </tr>\n",
              "    <tr>\n",
              "      <th>3</th>\n",
              "      <td>2487200875</td>\n",
              "      <td>20141209T000000</td>\n",
              "      <td>604000.0</td>\n",
              "      <td>4</td>\n",
              "      <td>3.00</td>\n",
              "      <td>1960</td>\n",
              "      <td>5000</td>\n",
              "      <td>1.0</td>\n",
              "      <td>0</td>\n",
              "      <td>0</td>\n",
              "      <td>5</td>\n",
              "      <td>7</td>\n",
              "      <td>1050</td>\n",
              "      <td>910</td>\n",
              "      <td>1965</td>\n",
              "      <td>0</td>\n",
              "      <td>98136</td>\n",
              "      <td>47.5208</td>\n",
              "      <td>-122.393</td>\n",
              "      <td>1360</td>\n",
              "      <td>5000</td>\n",
              "    </tr>\n",
              "    <tr>\n",
              "      <th>4</th>\n",
              "      <td>1954400510</td>\n",
              "      <td>20150218T000000</td>\n",
              "      <td>510000.0</td>\n",
              "      <td>3</td>\n",
              "      <td>2.00</td>\n",
              "      <td>1680</td>\n",
              "      <td>8080</td>\n",
              "      <td>1.0</td>\n",
              "      <td>0</td>\n",
              "      <td>0</td>\n",
              "      <td>3</td>\n",
              "      <td>8</td>\n",
              "      <td>1680</td>\n",
              "      <td>0</td>\n",
              "      <td>1987</td>\n",
              "      <td>0</td>\n",
              "      <td>98074</td>\n",
              "      <td>47.6168</td>\n",
              "      <td>-122.045</td>\n",
              "      <td>1800</td>\n",
              "      <td>7503</td>\n",
              "    </tr>\n",
              "  </tbody>\n",
              "</table>\n",
              "</div>"
            ],
            "text/plain": [
              "           id             date     price  ...     long  sqft_living15  sqft_lot15\n",
              "0  7129300520  20141013T000000  221900.0  ... -122.257           1340        5650\n",
              "1  6414100192  20141209T000000  538000.0  ... -122.319           1690        7639\n",
              "2  5631500400  20150225T000000  180000.0  ... -122.233           2720        8062\n",
              "3  2487200875  20141209T000000  604000.0  ... -122.393           1360        5000\n",
              "4  1954400510  20150218T000000  510000.0  ... -122.045           1800        7503\n",
              "\n",
              "[5 rows x 21 columns]"
            ]
          },
          "metadata": {
            "tags": []
          },
          "execution_count": 1
        }
      ]
    },
    {
      "cell_type": "markdown",
      "metadata": {
        "id": "y__R0iF60nHi"
      },
      "source": [
        "For this problem the goal is to predict the **house price** using only its **area**. Let's get this data. "
      ]
    },
    {
      "cell_type": "code",
      "metadata": {
        "id": "KSoUPvkFx8-X"
      },
      "source": [
        "area = data['sqft_living'].to_numpy().reshape(-1, 1)  # predictor\r\n",
        "price = data['price'].to_numpy().reshape(-1, 1)       # target "
      ],
      "execution_count": null,
      "outputs": []
    },
    {
      "cell_type": "markdown",
      "metadata": {
        "id": "svcHzDNy1fhT"
      },
      "source": [
        "First we will separate the data in two parts, one for training (X_train, y_train) and one for testing (X_test, y_test)."
      ]
    },
    {
      "cell_type": "code",
      "metadata": {
        "id": "GhKt9Q2I1gpB"
      },
      "source": [
        "from sklearn.model_selection import train_test_split\r\n",
        "\r\n",
        "X_train, X_test, y_train, y_test = train_test_split(area, price, test_size=0.50, random_state=7)"
      ],
      "execution_count": null,
      "outputs": []
    },
    {
      "cell_type": "code",
      "metadata": {
        "colab": {
          "base_uri": "https://localhost:8080/",
          "height": 311
        },
        "id": "UD-a8gyXkBdp",
        "outputId": "632b3f52-c9dd-4d94-f12b-e9f2cba69088"
      },
      "source": [
        "import matplotlib.pyplot as plt\n",
        "\n",
        "plt.plot(X_train, y_train, 'b.')\n",
        "plt.xlabel(\"X\", fontsize=14)\n",
        "plt.ylabel(\"y\", rotation=0, fontsize=14, labelpad=10)"
      ],
      "execution_count": null,
      "outputs": [
        {
          "output_type": "execute_result",
          "data": {
            "text/plain": [
              "Text(0, 0.5, 'y')"
            ]
          },
          "metadata": {
            "tags": []
          },
          "execution_count": 4
        },
        {
          "output_type": "display_data",
          "data": {
            "image/png": "[encoded data removed]",
            "text/plain": [
              "<Figure size 432x288 with 1 Axes>"
            ]
          },
          "metadata": {
            "tags": [],
            "needs_background": "light"
          }
        }
      ]
    },
    {
      "cell_type": "code",
      "metadata": {
        "colab": {
          "base_uri": "https://localhost:8080/",
          "height": 311
        },
        "id": "V8ffD_kioG-o",
        "outputId": "27bc0d1b-4988-4f25-e11e-196db1ef4ff6"
      },
      "source": [
        "plt.plot(X_test, y_test, 'b.')\n",
        "plt.xlabel(\"X\", fontsize=14)\n",
        "plt.ylabel(\"y\", rotation=0, fontsize=14, labelpad=10)"
      ],
      "execution_count": null,
      "outputs": [
        {
          "output_type": "execute_result",
          "data": {
            "text/plain": [
              "Text(0, 0.5, 'y')"
            ]
          },
          "metadata": {
            "tags": []
          },
          "execution_count": 11
        },
        {
          "output_type": "display_data",
          "data": {
            "image/png": "[encoded data removed]",
            "text/plain": [
              "<Figure size 432x288 with 1 Axes>"
            ]
          },
          "metadata": {
            "tags": [],
            "needs_background": "light"
          }
        }
      ]
    },
    {
      "cell_type": "markdown",
      "metadata": {
        "id": "ovsAN83B2Ttu"
      },
      "source": [
        "Here is a simple example on how to build a model and evaluate its performance."
      ]
    },
    {
      "cell_type": "code",
      "metadata": {
        "id": "cgGWJ5DH4cMr"
      },
      "source": [
        "from sklearn.linear_model import LinearRegression\r\n",
        "\r\n",
        "LR = LinearRegression()\r\n",
        "LR.fit(X_train, y_train)\r\n",
        "y_test_predicted = LR.predict(X_test)"
      ],
      "execution_count": null,
      "outputs": []
    },
    {
      "cell_type": "code",
      "metadata": {
        "colab": {
          "base_uri": "https://localhost:8080/",
          "height": 311
        },
        "id": "lL_OUo-8kP9o",
        "outputId": "6f22e20a-d932-45bd-d913-bc6c270ddb00"
      },
      "source": [
        "plt.plot(X_test, y_test, 'b.')\n",
        "plt.plot(X_test, y_test_predicted, 'r-')\n",
        "plt.xlabel(\"X\", fontsize=14)\n",
        "plt.ylabel(\"y\", rotation=0, fontsize=14, labelpad=10)"
      ],
      "execution_count": null,
      "outputs": [
        {
          "output_type": "execute_result",
          "data": {
            "text/plain": [
              "Text(0, 0.5, 'y')"
            ]
          },
          "metadata": {
            "tags": []
          },
          "execution_count": 14
        },
        {
          "output_type": "display_data",
          "data": {
            "image/png": "[encoded data removed]",
            "text/plain": [
              "<Figure size 432x288 with 1 Axes>"
            ]
          },
          "metadata": {
            "tags": [],
            "needs_background": "light"
          }
        }
      ]
    },
    {
      "cell_type": "markdown",
      "metadata": {
        "id": "O_YTXC-n7sNk"
      },
      "source": [
        "We will use two metrics to evaluate the model's performance: $R^2$ (**r-squared**) and **root mean square error** (RMSE)."
      ]
    },
    {
      "cell_type": "code",
      "metadata": {
        "colab": {
          "base_uri": "https://localhost:8080/"
        },
        "id": "d18EPrNC3oL0",
        "outputId": "c1abfdf2-bfdd-45e2-dc46-2ed20beee10f"
      },
      "source": [
        "from sklearn.metrics import r2_score, mean_squared_error\r\n",
        "\r\n",
        "r2 = r2_score(y_test, y_test_predicted)             \r\n",
        "RMSE = np.sqrt( mean_squared_error(y_test, y_test_predicted) )\r\n",
        "\r\n",
        "print(\"R2: \\t %2.4f\" % r2)\r\n",
        "print(\"RMSE: \\t %2.4f\" % RMSE)"
      ],
      "execution_count": null,
      "outputs": [
        {
          "output_type": "stream",
          "text": [
            "R2: \t 0.4967\n",
            "RMSE: \t 265820.2819\n"
          ],
          "name": "stdout"
        }
      ]
    },
    {
      "cell_type": "markdown",
      "metadata": {
        "id": "HQfTdYmQ9yat"
      },
      "source": [
        "**Now it is your turn**. \r\n",
        "\r\n",
        "Build one or more regression models and see how well they perform."
      ]
    },
    {
      "cell_type": "code",
      "metadata": {
        "id": "_SHOnLavifGf",
        "colab": {
          "base_uri": "https://localhost:8080/",
          "height": 345
        },
        "outputId": "6f09b12f-41c3-4aee-8fea-90e3c9c7f902"
      },
      "source": [
        "## Build and evaluate your models here.\n",
        "from sklearn.linear_model import SGDRegressor\n",
        "from sklearn.metrics import r2_score, mean_squared_error\n",
        "from sklearn.pipeline import make_pipeline\n",
        "from sklearn.preprocessing import StandardScaler\n",
        "\n",
        "\n",
        "SGD = SGDRegressor(\n",
        "    tol=1e-6,\n",
        "    eta0=0.01,\n",
        "    penalty=None\n",
        ")\n",
        "\n",
        "SGD = make_pipeline(StandardScaler(), SGD)\n",
        "\n",
        "\n",
        "SGD.fit(X_train, np.ravel(y_train))\n",
        "y_pred_sgd = SGD.predict(X_test)\n",
        "\n",
        "r2 = r2_score(y_test, y_pred_sgd)    \n",
        "         \n",
        "RMSE = np.sqrt(\n",
        "    mean_squared_error(y_test, y_pred_sgd)\n",
        ")\n",
        "\n",
        "print(\"R2: \\t %2.4f\" % r2)\n",
        "print(\"RMSE: \\t %2.4f\" % RMSE)\n",
        "\n",
        "plt.plot(X_test, y_test, 'b.')\n",
        "plt.plot(X_test, y_pred_sgd, 'r-')\n",
        "plt.xlabel(\"X\", fontsize=14)\n",
        "plt.ylabel(\"y\", rotation=0, fontsize=14, labelpad=10)"
      ],
      "execution_count": null,
      "outputs": [
        {
          "output_type": "stream",
          "text": [
            "R2: \t 0.4966\n",
            "RMSE: \t 265840.4982\n"
          ],
          "name": "stdout"
        },
        {
          "output_type": "execute_result",
          "data": {
            "text/plain": [
              "Text(0, 0.5, 'y')"
            ]
          },
          "metadata": {
            "tags": []
          },
          "execution_count": 27
        },
        {
          "output_type": "display_data",
          "data": {
            "image/png": "[encoded data removed]",
            "text/plain": [
              "<Figure size 432x288 with 1 Axes>"
            ]
          },
          "metadata": {
            "tags": [],
            "needs_background": "light"
          }
        }
      ]
    },
    {
      "cell_type": "code",
      "metadata": {
        "colab": {
          "base_uri": "https://localhost:8080/",
          "height": 345
        },
        "id": "0z_pxpRodwI7",
        "outputId": "b4e6da43-7890-440c-d195-54e8b1afba5e"
      },
      "source": [
        "# Ridge\n",
        "from sklearn.linear_model import Ridge\n",
        "from sklearn.metrics import r2_score, mean_squared_error\n",
        "\n",
        "RidgeLR = Ridge(solver='cholesky') # closed-form solution\n",
        "RidgeLR.fit(X_train, y_train)\n",
        "y_pred_ridge = RidgeLR.predict(X_test)\n",
        "\n",
        "r2 = r2_score(y_test, y_pred_ridge)    \n",
        "         \n",
        "RMSE = np.sqrt(\n",
        "    mean_squared_error(y_test, y_pred_ridge)\n",
        ")\n",
        "\n",
        "print(\"R2: \\t %2.4f\" % r2)\n",
        "print(\"RMSE: \\t %2.4f\" % RMSE)\n",
        "\n",
        "plt.plot(X_test, y_test, 'b.')\n",
        "plt.plot(X_test, y_pred_ridge, 'r-')\n",
        "plt.xlabel(\"X\", fontsize=14)\n",
        "plt.ylabel(\"y\", rotation=0, fontsize=14, labelpad=10)"
      ],
      "execution_count": null,
      "outputs": [
        {
          "output_type": "stream",
          "text": [
            "R2: \t 0.4967\n",
            "RMSE: \t 265820.2819\n"
          ],
          "name": "stdout"
        },
        {
          "output_type": "execute_result",
          "data": {
            "text/plain": [
              "Text(0, 0.5, 'y')"
            ]
          },
          "metadata": {
            "tags": []
          },
          "execution_count": 20
        },
        {
          "output_type": "display_data",
          "data": {
            "image/png": "[encoded data removed]",
            "text/plain": [
              "<Figure size 432x288 with 1 Axes>"
            ]
          },
          "metadata": {
            "tags": [],
            "needs_background": "light"
          }
        }
      ]
    },
    {
      "cell_type": "code",
      "metadata": {
        "colab": {
          "base_uri": "https://localhost:8080/",
          "height": 345
        },
        "id": "nAVleihRePUa",
        "outputId": "fe365c40-ce76-47a7-dc13-e2657e0c2409"
      },
      "source": [
        "# Lasso Regression\n",
        "from sklearn.linear_model import SGDRegressor\n",
        "from sklearn.metrics import r2_score, mean_squared_error\n",
        "from sklearn.pipeline import make_pipeline\n",
        "from sklearn.preprocessing import StandardScaler\n",
        "\n",
        "\n",
        "Lasso = SGDRegressor(\n",
        "    max_iter=1000, \n",
        "    tol=1e-6, \n",
        "    eta0=0.01, \n",
        "    penalty='l2', \n",
        "    alpha=0.01, \n",
        "    random_state=7\n",
        ")\n",
        "\n",
        "Lasso = make_pipeline(StandardScaler(), Lasso)\n",
        "\n",
        "Lasso.fit(X_train, np.ravel(y_train))\n",
        "y_pred_lasso = Lasso.predict(X_test)\n",
        "\n",
        "r2 = r2_score(y_test, y_pred_lasso)    \n",
        "         \n",
        "RMSE = np.sqrt(\n",
        "    mean_squared_error(y_test, y_pred_lasso)\n",
        ")\n",
        "\n",
        "print(\"R2: \\t %2.4f\" % r2)\n",
        "print(\"RMSE: \\t %2.4f\" % RMSE)\n",
        "\n",
        "plt.plot(X_test, y_test, 'b.')\n",
        "plt.plot(X_test, y_pred_lasso, 'r-')\n",
        "plt.xlabel(\"X\", fontsize=14)\n",
        "plt.ylabel(\"y\", rotation=0, fontsize=14, labelpad=10)"
      ],
      "execution_count": null,
      "outputs": [
        {
          "output_type": "stream",
          "text": [
            "R2: \t 0.4977\n",
            "RMSE: \t 265565.8863\n"
          ],
          "name": "stdout"
        },
        {
          "output_type": "execute_result",
          "data": {
            "text/plain": [
              "Text(0, 0.5, 'y')"
            ]
          },
          "metadata": {
            "tags": []
          },
          "execution_count": 28
        },
        {
          "output_type": "display_data",
          "data": {
            "image/png": "[encoded data removed]",
            "text/plain": [
              "<Figure size 432x288 with 1 Axes>"
            ]
          },
          "metadata": {
            "tags": [],
            "needs_background": "light"
          }
        }
      ]
    },
    {
      "cell_type": "markdown",
      "metadata": {
        "id": "HHFFyXU1dd87"
      },
      "source": [
        "## **Problem 02**"
      ]
    },
    {
      "cell_type": "markdown",
      "metadata": {
        "id": "ybXVobVldhSe"
      },
      "source": [
        "For this second problem we will use the **Boston house prices dataset**. Let's load the data and have a look at the dataset description."
      ]
    },
    {
      "cell_type": "code",
      "metadata": {
        "id": "a6Hwb41wd34u",
        "colab": {
          "base_uri": "https://localhost:8080/"
        },
        "outputId": "50bfe566-3c07-4a39-f55b-7874d8b72103"
      },
      "source": [
        "from sklearn.datasets import load_boston\r\n",
        "\r\n",
        "boston = load_boston()\r\n",
        "X = boston.data\r\n",
        "y = boston.target\r\n",
        "\r\n",
        "print(boston.DESCR)"
      ],
      "execution_count": null,
      "outputs": [
        {
          "output_type": "stream",
          "text": [
            ".. _boston_dataset:\n",
            "\n",
            "Boston house prices dataset\n",
            "---------------------------\n",
            "\n",
            "**Data Set Characteristics:**  \n",
            "\n",
            "    :Number of Instances: 506 \n",
            "\n",
            "    :Number of Attributes: 13 numeric/categorical predictive. Median Value (attribute 14) is usually the target.\n",
            "\n",
            "    :Attribute Information (in order):\n",
            "        - CRIM     per capita crime rate by town\n",
            "        - ZN       proportion of residential land zoned for lots over 25,000 sq.ft.\n",
            "        - INDUS    proportion of non-retail business acres per town\n",
            "        - CHAS     Charles River dummy variable (= 1 if tract bounds river; 0 otherwise)\n",
            "        - NOX      nitric oxides concentration (parts per 10 million)\n",
            "        - RM       average number of rooms per dwelling\n",
            "        - AGE      proportion of owner-occupied units built prior to 1940\n",
            "        - DIS      weighted distances to five Boston employment centres\n",
            "        - RAD      index of accessibility to radial highways\n",
            "        - TAX      full-value property-tax rate per $10,000\n",
            "        - PTRATIO  pupil-teacher ratio by town\n",
            "        - B        1000(Bk - 0.63)^2 where Bk is the proportion of blacks by town\n",
            "        - LSTAT    % lower status of the population\n",
            "        - MEDV     Median value of owner-occupied homes in $1000's\n",
            "\n",
            "    :Missing Attribute Values: None\n",
            "\n",
            "    :Creator: Harrison, D. and Rubinfeld, D.L.\n",
            "\n",
            "This is a copy of UCI ML housing dataset.\n",
            "https://archive.ics.uci.edu/ml/machine-learning-databases/housing/\n",
            "\n",
            "\n",
            "This dataset was taken from the StatLib library which is maintained at Carnegie Mellon University.\n",
            "\n",
            "The Boston house-price data of Harrison, D. and Rubinfeld, D.L. 'Hedonic\n",
            "prices and the demand for clean air', J. Environ. Economics & Management,\n",
            "vol.5, 81-102, 1978.   Used in Belsley, Kuh & Welsch, 'Regression diagnostics\n",
            "...', Wiley, 1980.   N.B. Various transformations are used in the table on\n",
            "pages 244-261 of the latter.\n",
            "\n",
            "The Boston house-price data has been used in many machine learning papers that address regression\n",
            "problems.   \n",
            "     \n",
            ".. topic:: References\n",
            "\n",
            "   - Belsley, Kuh & Welsch, 'Regression diagnostics: Identifying Influential Data and Sources of Collinearity', Wiley, 1980. 244-261.\n",
            "   - Quinlan,R. (1993). Combining Instance-Based and Model-Based Learning. In Proceedings on the Tenth International Conference of Machine Learning, 236-243, University of Massachusetts, Amherst. Morgan Kaufmann.\n",
            "\n"
          ],
          "name": "stdout"
        }
      ]
    },
    {
      "cell_type": "markdown",
      "metadata": {
        "id": "xN9hXJrieSDK"
      },
      "source": [
        "The goal here is again to predict the price of a house, but now you are free to use all predictors variables. Since this is a small dataset, we will use 80% of the dataset for training and 20% for testing."
      ]
    },
    {
      "cell_type": "code",
      "metadata": {
        "id": "hEtkRrNdesNV"
      },
      "source": [
        "from sklearn.model_selection import train_test_split\r\n",
        "\r\n",
        "X_train, X_test, y_train, y_test = train_test_split(X, y, train_size=0.80, random_state=7)"
      ],
      "execution_count": null,
      "outputs": []
    },
    {
      "cell_type": "markdown",
      "metadata": {
        "id": "4amwdafZiHcM"
      },
      "source": [
        "**Your turn**: Use the training data to build one or more regression models, then evaluate their performances on the test data."
      ]
    },
    {
      "cell_type": "code",
      "metadata": {
        "id": "8BdpNywXijCY"
      },
      "source": [
        "## Build and evaluate your models here."
      ],
      "execution_count": null,
      "outputs": []
    }
  ]
}