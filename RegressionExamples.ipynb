{
  "nbformat": 4,
  "nbformat_minor": 0,
  "metadata": {
    "colab": {
      "name": "RegressionExamples.ipynb",
      "provenance": [],
      "collapsed_sections": [],
      "include_colab_link": true
    },
    "kernelspec": {
      "name": "python3",
      "display_name": "Python 3"
    }
  },
  "cells": [
    {
      "cell_type": "markdown",
      "metadata": {
        "id": "view-in-github",
        "colab_type": "text"
      },
      "source": [
        "<a href=\"https://colab.research.google.com/github/Joaom123/huawei-hcia-ia-ifce/blob/main/RegressionExamples.ipynb\" target=\"_parent\"><img src=\"https://colab.research.google.com/assets/colab-badge.svg\" alt=\"Open In Colab\"/></a>"
      ]
    },
    {
      "cell_type": "markdown",
      "metadata": {
        "id": "IGTRcbdV29iG"
      },
      "source": [
        "## **Closed-form Linear Regression**"
      ]
    },
    {
      "cell_type": "markdown",
      "metadata": {
        "id": "dbQxl5Nkp3WZ"
      },
      "source": [
        "Let's start by generating some random linear data"
      ]
    },
    {
      "cell_type": "code",
      "metadata": {
        "id": "LCd2eEPVmjYZ"
      },
      "source": [
        "import numpy as np\r\n",
        "\r\n",
        "np.random.seed(7)\r\n",
        "\r\n",
        "X = 4*np.random.rand(200, 1)\r\n",
        "y = 2 + 3*X + np.random.randn(200, 1)"
      ],
      "execution_count": null,
      "outputs": []
    },
    {
      "cell_type": "markdown",
      "metadata": {
        "id": "a2f-xlc6qiRQ"
      },
      "source": [
        "Let's see what our data looks like\r\n"
      ]
    },
    {
      "cell_type": "code",
      "metadata": {
        "id": "x0QpccAmqprI",
        "colab": {
          "base_uri": "https://localhost:8080/",
          "height": 300
        },
        "outputId": "d7a9853b-0001-4a9d-cfa2-b2f30ae1f7e6"
      },
      "source": [
        "import matplotlib.pyplot as plt\r\n",
        "\r\n",
        "plt.plot(X, y, 'b.')\r\n",
        "plt.xlabel(\"X\", fontsize=14)\r\n",
        "plt.ylabel(\"y\", rotation=0, fontsize=14, labelpad=10)"
      ],
      "execution_count": null,
      "outputs": [
        {
          "output_type": "execute_result",
          "data": {
            "text/plain": [
              "Text(0, 0.5, 'y')"
            ]
          },
          "metadata": {
            "tags": []
          },
          "execution_count": 3
        },
        {
          "output_type": "display_data",
          "data": {
            "image/png": "[encoded data removed]",
            "text/plain": [
              "<Figure size 432x288 with 1 Axes>"
            ]
          },
          "metadata": {
            "tags": [],
            "needs_background": "light"
          }
        }
      ]
    },
    {
      "cell_type": "markdown",
      "metadata": {
        "id": "SzL99rrdrEo7"
      },
      "source": [
        "Now, let's see how well the Linear Regression models we saw fit this data.\r\n",
        "We will start off building a Linear Regressor that uses the **Normal Equation** \r\n",
        "\r\n",
        "$\\hat{\\theta} = (X^TX)^{-1}X^Ty$\r\n",
        "\r\n",
        "to find the best parameters."
      ]
    },
    {
      "cell_type": "code",
      "metadata": {
        "id": "e9k-Gt5-rg8M",
        "colab": {
          "base_uri": "https://localhost:8080/"
        },
        "outputId": "ddeadb7f-dce3-4ce8-c435-55aab24ea543"
      },
      "source": [
        "# First we will add x0 = 1 to each instance\r\n",
        "\r\n",
        "Xb = np.c_[np.ones(X.shape), X]\r\n",
        "\r\n",
        "# Now we compute the model parameters\r\n",
        "theta = np.linalg.inv(Xb.T.dot(Xb)).dot(Xb.T).dot(y)\r\n",
        "theta"
      ],
      "execution_count": null,
      "outputs": [
        {
          "output_type": "execute_result",
          "data": {
            "text/plain": [
              "array([[2.01777976],\n",
              "       [2.97603138]])"
            ]
          },
          "metadata": {
            "tags": []
          },
          "execution_count": 4
        }
      ]
    },
    {
      "cell_type": "markdown",
      "metadata": {
        "id": "iuj59csBtRVa"
      },
      "source": [
        "That is a pretty good estimate! The function we used to generate our data was $y = 2 + 3x + noise$. The predicted function is $\\hat{y} \\approx 2.01 + 2.97x$. Not bad!"
      ]
    },
    {
      "cell_type": "code",
      "metadata": {
        "id": "6DiNRzywtyJN",
        "colab": {
          "base_uri": "https://localhost:8080/",
          "height": 300
        },
        "outputId": "be96085d-c211-45f1-a4e6-a712b82010f3"
      },
      "source": [
        "y_pred = Xb.dot(theta)\r\n",
        "\r\n",
        "plt.plot(X, y, 'b.')\r\n",
        "plt.plot(X, y_pred, 'r-')\r\n",
        "plt.xlabel(\"X\", fontsize=14)\r\n",
        "plt.ylabel(\"y\", rotation=0, fontsize=14, labelpad=10)"
      ],
      "execution_count": null,
      "outputs": [
        {
          "output_type": "execute_result",
          "data": {
            "text/plain": [
              "Text(0, 0.5, 'y')"
            ]
          },
          "metadata": {
            "tags": []
          },
          "execution_count": 18
        },
        {
          "output_type": "display_data",
          "data": {
            "image/png": "[encoded data removed]",
            "text/plain": [
              "<Figure size 432x288 with 1 Axes>"
            ]
          },
          "metadata": {
            "tags": [],
            "needs_background": "light"
          }
        }
      ]
    },
    {
      "cell_type": "markdown",
      "metadata": {
        "id": "hlFdXShFyFAQ"
      },
      "source": [
        "Now let's perform the regression with scikit-learn."
      ]
    },
    {
      "cell_type": "code",
      "metadata": {
        "id": "YyvXNO-Ryprc",
        "colab": {
          "base_uri": "https://localhost:8080/"
        },
        "outputId": "7de6b39d-faaf-4a30-ad06-e092eb14cf18"
      },
      "source": [
        "from sklearn.linear_model import LinearRegression\r\n",
        "\r\n",
        "LR = LinearRegression()\r\n",
        "LR.fit(X, y)\r\n",
        "\r\n",
        "LR.intercept_, LR.coef_"
      ],
      "execution_count": null,
      "outputs": [
        {
          "output_type": "execute_result",
          "data": {
            "text/plain": [
              "(array([2.01777976]), array([[2.97603138]]))"
            ]
          },
          "metadata": {
            "tags": []
          },
          "execution_count": 6
        }
      ]
    },
    {
      "cell_type": "markdown",
      "metadata": {
        "id": "MWGgsPEu016i"
      },
      "source": [
        "Note that the solution is exactly the same. This happens because sklearn finds the best parameters solving the following equation\r\n",
        "\r\n",
        "$\\hat{\\theta} = X^+ \\theta$,\r\n",
        "\r\n",
        "where $X^+$ is the [pseudoinverse](https://en.wikipedia.org/wiki/Moore%E2%80%93Penrose_inverse) of $X$. Evaluating the pseudinverse $X$ is more efficient than evaluating the inverse of $X^TX$. Besides, the pseuinverse is always defined while $X^TX$ might not be invertible."
      ]
    },
    {
      "cell_type": "markdown",
      "metadata": {
        "id": "Wfk52bnO03bS"
      },
      "source": [
        "## **Linear Regression with Gradient-Descent**\r\n"
      ]
    },
    {
      "cell_type": "markdown",
      "metadata": {
        "id": "l_Sn1v1L3GUE"
      },
      "source": [
        "To perform Linear Regression with Gradient-Descent we will use sklearn's SGDRegressor."
      ]
    },
    {
      "cell_type": "code",
      "metadata": {
        "id": "HPNumIJZ3k38",
        "colab": {
          "base_uri": "https://localhost:8080/"
        },
        "outputId": "a7b80484-56a3-4cc0-c91c-7abb41a798aa"
      },
      "source": [
        "from sklearn.linear_model import SGDRegressor\r\n",
        "\r\n",
        "SGD = SGDRegressor(max_iter=1000, tol=1e-6, eta0=0.01, penalty=None, random_state=7)\r\n",
        "SGD.fit(X, np.ravel(y))\r\n",
        "\r\n",
        "y_pred_SGD = SGD.predict(X)\r\n",
        "\r\n",
        "SGD.intercept_, SGD.coef_"
      ],
      "execution_count": null,
      "outputs": [
        {
          "output_type": "execute_result",
          "data": {
            "text/plain": [
              "(array([1.93831671]), array([2.99402094]))"
            ]
          },
          "metadata": {
            "tags": []
          },
          "execution_count": 7
        }
      ]
    },
    {
      "cell_type": "markdown",
      "metadata": {
        "id": "aFLlo-tT6WIt"
      },
      "source": [
        "## **Ridge and Lasso Regression**"
      ]
    },
    {
      "cell_type": "markdown",
      "metadata": {
        "id": "csXQ9pU66htd"
      },
      "source": [
        "First we will perform **Ridge Regression** using the closed-form solution."
      ]
    },
    {
      "cell_type": "code",
      "metadata": {
        "id": "w9uxZuT26Y-1",
        "colab": {
          "base_uri": "https://localhost:8080/"
        },
        "outputId": "bd4c2d60-9130-4b32-c383-eece83cb5dd9"
      },
      "source": [
        "from sklearn.linear_model import Ridge\r\n",
        "\r\n",
        "RidgeLR = Ridge(solver='cholesky', alpha=0.01, random_state=7)\r\n",
        "RidgeLR.fit(X, y)\r\n",
        "\r\n",
        "y_pred_RidgeLR = RidgeLR.predict(X)\r\n",
        "\r\n",
        "RidgeLR.intercept_, RidgeLR.coef_"
      ],
      "execution_count": null,
      "outputs": [
        {
          "output_type": "execute_result",
          "data": {
            "text/plain": [
              "(array([2.01800544]), array([[2.97591609]]))"
            ]
          },
          "metadata": {
            "tags": []
          },
          "execution_count": 8
        }
      ]
    },
    {
      "cell_type": "markdown",
      "metadata": {
        "id": "sP-lvGmf7Hnt"
      },
      "source": [
        "Now using SGDRegressor."
      ]
    },
    {
      "cell_type": "code",
      "metadata": {
        "id": "lGwhf_2_7IBb",
        "colab": {
          "base_uri": "https://localhost:8080/"
        },
        "outputId": "cf5155b5-8941-46f9-bb08-60d5b0fb7521"
      },
      "source": [
        "RidgeSGD = SGDRegressor(max_iter=1000, tol=1e-6, eta0=0.01, penalty='l2', alpha=0.01, random_state=7)\r\n",
        "RidgeSGD.fit(X, np.ravel(y))\r\n",
        "\r\n",
        "y_pred_RidgeSGD = RidgeSGD.predict(X)\r\n",
        "\r\n",
        "RidgeSGD.intercept_, RidgeSGD.coef_"
      ],
      "execution_count": null,
      "outputs": [
        {
          "output_type": "execute_result",
          "data": {
            "text/plain": [
              "(array([1.97810841]), array([2.97261566]))"
            ]
          },
          "metadata": {
            "tags": []
          },
          "execution_count": 9
        }
      ]
    },
    {
      "cell_type": "markdown",
      "metadata": {
        "id": "8NHC_uh78CzO"
      },
      "source": [
        "**Lasso Regression**"
      ]
    },
    {
      "cell_type": "code",
      "metadata": {
        "id": "0kFNesbY8Jrv",
        "colab": {
          "base_uri": "https://localhost:8080/"
        },
        "outputId": "ca7412d2-c1c9-4408-cd08-12f5b67c27cd"
      },
      "source": [
        "LassoSGD = SGDRegressor(max_iter=10000, tol=1e-6, eta0=0.01, penalty='l1', alpha=0.01, random_state=7)\r\n",
        "LassoSGD.fit(X, np.ravel(y))\r\n",
        "\r\n",
        "y_pred_LassoSGD = LassoSGD.predict(X)\r\n",
        "\r\n",
        "LassoSGD.intercept_, LassoSGD.coef_"
      ],
      "execution_count": null,
      "outputs": [
        {
          "output_type": "execute_result",
          "data": {
            "text/plain": [
              "(array([1.95152839]), array([2.98689907]))"
            ]
          },
          "metadata": {
            "tags": []
          },
          "execution_count": 10
        }
      ]
    },
    {
      "cell_type": "markdown",
      "metadata": {
        "id": "lxaP99Gs8gCn"
      },
      "source": [
        "## **Comparison**"
      ]
    },
    {
      "cell_type": "code",
      "metadata": {
        "id": "k6COTY6X8itu",
        "colab": {
          "base_uri": "https://localhost:8080/",
          "height": 733
        },
        "outputId": "dd118ac8-8cf5-478d-de59-65804ff4e1df"
      },
      "source": [
        "fig, axs = plt.subplots(2,2, figsize=(12,12))\r\n",
        "\r\n",
        "for i in range(2):\r\n",
        "  for j in range(2):\r\n",
        "    axs[i, j].plot(X, y, 'b.')\r\n",
        "\r\n",
        "axs[0, 0].plot(X, y_pred, 'r-', linewidth=2)\r\n",
        "axs[0, 0].set_title(\"Closed-form Linear Regression\")\r\n",
        "\r\n",
        "axs[0, 1].plot(X, y_pred_SGD, 'g-', linewidth=2)\r\n",
        "axs[0, 1].set_title(\"SGD Linear Regression\")\r\n",
        "\r\n",
        "axs[1, 0].plot(X, y_pred_RidgeSGD, 'm-', linewidth=2)\r\n",
        "axs[1, 0].set_title(\"SGD Ridge Regression\")\r\n",
        "\r\n",
        "axs[1, 1].plot(X, y_pred_LassoSGD, 'k-', linewidth=2)\r\n",
        "axs[1, 1].set_title(\"SGD Lasso Regression\")"
      ],
      "execution_count": null,
      "outputs": [
        {
          "output_type": "execute_result",
          "data": {
            "text/plain": [
              "Text(0.5, 1.0, 'SGD Lasso Regression')"
            ]
          },
          "metadata": {
            "tags": []
          },
          "execution_count": 11
        },
        {
          "output_type": "display_data",
          "data": {
            "image/png": "[encoded data removed]",
            "text/plain": [
              "<Figure size 864x864 with 4 Axes>"
            ]
          },
          "metadata": {
            "tags": [],
            "needs_background": "light"
          }
        }
      ]
    },
    {
      "cell_type": "markdown",
      "metadata": {
        "id": "ueQotlpj_8gX"
      },
      "source": [
        "A common metric used to measure the performance of a regression model is the [r-squared](https://en.wikipedia.org/wiki/Coefficient_of_determination). It provides a measure of how well observed outcomes are replicated by the model."
      ]
    },
    {
      "cell_type": "code",
      "metadata": {
        "id": "7MoEBvZWCQ21",
        "colab": {
          "base_uri": "https://localhost:8080/"
        },
        "outputId": "15215b12-17d1-41e2-9158-bd3f2ef7e079"
      },
      "source": [
        "from sklearn.metrics import r2_score\r\n",
        "\r\n",
        "print('Regression Model \\t R2')\r\n",
        "print('C-F Linear Regression: \\t %2.4f'% r2_score(y, y_pred))\r\n",
        "print('SGD Linear Regression: \\t %2.4f'% r2_score(y, y_pred_SGD))\r\n",
        "print('SGD Ridge Regression: \\t %2.4f' % r2_score(y, y_pred_RidgeSGD))\r\n",
        "print('SGD Lasso Regression: \\t %2.4f' % r2_score(y, y_pred_LassoSGD))"
      ],
      "execution_count": null,
      "outputs": [
        {
          "output_type": "stream",
          "text": [
            "Regression Model \t R2\n",
            "C-F Linear Regression: \t 0.9221\n",
            "SGD Linear Regression: \t 0.9220\n",
            "SGD Ridge Regression: \t 0.9220\n",
            "SGD Lasso Regression: \t 0.9220\n"
          ],
          "name": "stdout"
        }
      ]
    },
    {
      "cell_type": "markdown",
      "metadata": {
        "id": "MNc9aHs2HBWk"
      },
      "source": [
        "## **Polynomial Regression**"
      ]
    },
    {
      "cell_type": "markdown",
      "metadata": {
        "id": "0A6E9fecHEiz"
      },
      "source": [
        "Finally, let's see how to perform **Polynomial Regression** with scikit-learn.\r\n",
        "\r\n",
        "First we will generate some nonlinear data."
      ]
    },
    {
      "cell_type": "code",
      "metadata": {
        "id": "VBdK-SODHXKy",
        "colab": {
          "base_uri": "https://localhost:8080/",
          "height": 300
        },
        "outputId": "3ea5c6d6-d4aa-4f10-eb41-413bd48efc37"
      },
      "source": [
        "np.random.seed(7)\r\n",
        "\r\n",
        "X2 = 4*np.random.rand(200, 1) - 1\r\n",
        "y2 = 2 + 2*X2**2 + np.random.randn(200, 1)\r\n",
        "\r\n",
        "plt.plot(X2, y2, 'b.')\r\n",
        "plt.xlabel(\"X\", fontsize=14)\r\n",
        "plt.ylabel(\"y\", rotation=0, fontsize=14, labelpad=10)"
      ],
      "execution_count": null,
      "outputs": [
        {
          "output_type": "execute_result",
          "data": {
            "text/plain": [
              "Text(0, 0.5, 'y')"
            ]
          },
          "metadata": {
            "tags": []
          },
          "execution_count": 13
        },
        {
          "output_type": "display_data",
          "data": {
            "image/png": "[encoded data removed]",
            "text/plain": [
              "<Figure size 432x288 with 1 Axes>"
            ]
          },
          "metadata": {
            "tags": [],
            "needs_background": "light"
          }
        }
      ]
    },
    {
      "cell_type": "code",
      "metadata": {
        "id": "dm482jkBIqGr",
        "colab": {
          "base_uri": "https://localhost:8080/",
          "height": 300
        },
        "outputId": "3f044f2c-5f32-4f41-b76e-74e8f7ab3c45"
      },
      "source": [
        "LR = LinearRegression()\r\n",
        "LR.fit(X2, y2)\r\n",
        "\r\n",
        "y2_pred = LR.predict(X2)\r\n",
        "\r\n",
        "plt.plot(X2, y2, 'b.')\r\n",
        "plt.plot(X2, y2_pred, 'r-')\r\n",
        "plt.xlabel(\"X\", fontsize=14)\r\n",
        "plt.ylabel(\"y\", rotation=0, fontsize=14, labelpad=10)"
      ],
      "execution_count": null,
      "outputs": [
        {
          "output_type": "execute_result",
          "data": {
            "text/plain": [
              "Text(0, 0.5, 'y')"
            ]
          },
          "metadata": {
            "tags": []
          },
          "execution_count": 14
        },
        {
          "output_type": "display_data",
          "data": {
            "image/png": "[encoded data removed]",
            "text/plain": [
              "<Figure size 432x288 with 1 Axes>"
            ]
          },
          "metadata": {
            "tags": [],
            "needs_background": "light"
          }
        }
      ]
    },
    {
      "cell_type": "code",
      "metadata": {
        "id": "7amRisMvIxHj",
        "colab": {
          "base_uri": "https://localhost:8080/"
        },
        "outputId": "7bc298f4-ecc8-4aa9-f707-048840b0a6bd"
      },
      "source": [
        "from sklearn.preprocessing import PolynomialFeatures\r\n",
        "\r\n",
        "polyFeatures = PolynomialFeatures(degree=2, include_bias=False)\r\n",
        "Xp = polyFeatures.fit_transform(X2)\r\n",
        "\r\n",
        "print(X2.shape, Xp.shape)\r\n",
        "Xp[0:3]"
      ],
      "execution_count": null,
      "outputs": [
        {
          "output_type": "stream",
          "text": [
            "(200, 1) (200, 2)\n"
          ],
          "name": "stdout"
        },
        {
          "output_type": "execute_result",
          "data": {
            "text/plain": [
              "array([[-0.69476684,  0.48270097],\n",
              "       [ 2.11967517,  4.49302282],\n",
              "       [ 0.75363693,  0.56796862]])"
            ]
          },
          "metadata": {
            "tags": []
          },
          "execution_count": 15
        }
      ]
    },
    {
      "cell_type": "code",
      "metadata": {
        "id": "Tqs-JSvRJxQV",
        "colab": {
          "base_uri": "https://localhost:8080/"
        },
        "outputId": "a24552d4-fabe-47dd-8d85-3a0f1d929499"
      },
      "source": [
        "PR = LinearRegression()\r\n",
        "PR.fit(Xp, y2)\r\n",
        "\r\n",
        "PR.intercept_, PR.coef_"
      ],
      "execution_count": null,
      "outputs": [
        {
          "output_type": "execute_result",
          "data": {
            "text/plain": [
              "(array([2.00116874]), array([[0.01558909, 1.97950862]]))"
            ]
          },
          "metadata": {
            "tags": []
          },
          "execution_count": 16
        }
      ]
    },
    {
      "cell_type": "code",
      "metadata": {
        "id": "VxRjxrhFKU9W",
        "colab": {
          "base_uri": "https://localhost:8080/",
          "height": 300
        },
        "outputId": "3698bc9d-5f28-44e3-b26f-5f41f55d3937"
      },
      "source": [
        "Xn = np.linspace(-1, 3, 200).reshape(200, 1)\r\n",
        "Xnp = polyFeatures.transform(Xn)\r\n",
        "y2_pred_PR = PR.predict(Xnp)\r\n",
        "\r\n",
        "plt.plot(X2, y2, 'b.')\r\n",
        "plt.plot(Xn, y2_pred_PR, 'r-', linewidth=2)\r\n",
        "plt.xlabel(\"X\", fontsize=14)\r\n",
        "plt.ylabel(\"y\", rotation=0, fontsize=14, labelpad=10)"
      ],
      "execution_count": null,
      "outputs": [
        {
          "output_type": "execute_result",
          "data": {
            "text/plain": [
              "Text(0, 0.5, 'y')"
            ]
          },
          "metadata": {
            "tags": []
          },
          "execution_count": 17
        },
        {
          "output_type": "display_data",
          "data": {
            "image/png": "[encoded data removed]",
            "text/plain": [
              "<Figure size 432x288 with 1 Axes>"
            ]
          },
          "metadata": {
            "tags": [],
            "needs_background": "light"
          }
        }
      ]
    }
  ]
}