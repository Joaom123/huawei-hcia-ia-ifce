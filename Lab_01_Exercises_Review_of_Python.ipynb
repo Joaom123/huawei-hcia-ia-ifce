{
  "nbformat": 4,
  "nbformat_minor": 0,
  "metadata": {
    "colab": {
      "name": "Lab 01 - Exercises_Review_of_Python.ipynb",
      "provenance": [],
      "collapsed_sections": [],
      "include_colab_link": true
    },
    "kernelspec": {
      "name": "python3",
      "display_name": "Python 3"
    }
  },
  "cells": [
    {
      "cell_type": "markdown",
      "metadata": {
        "id": "view-in-github",
        "colab_type": "text"
      },
      "source": [
        "<a href=\"https://colab.research.google.com/github/Joaom123/huawei-hcia-ia-ifce/blob/main/Lab_01_Exercises_Review_of_Python.ipynb\" target=\"_parent\"><img src=\"https://colab.research.google.com/assets/colab-badge.svg\" alt=\"Open In Colab\"/></a>"
      ]
    },
    {
      "cell_type": "markdown",
      "metadata": {
        "id": "412snEVYbZix"
      },
      "source": [
        "#Exercises\n",
        "\n",
        "Complete the tasks outlined in bold below, use the specific method described if applicable. The correct outputs are given as comments."
      ]
    },
    {
      "cell_type": "markdown",
      "metadata": {
        "id": "v5a3KCQYbw5O"
      },
      "source": [
        "**1. Split this string:**\n",
        "\n",
        "    s = \"Hi there Sam!\"\n",
        "    \n",
        "**into a list.**"
      ]
    },
    {
      "cell_type": "code",
      "metadata": {
        "id": "nQARxf6qbzsy",
        "colab": {
          "base_uri": "https://localhost:8080/"
        },
        "outputId": "06881260-cc70-4a65-f2af-34966c6b8c37"
      },
      "source": [
        "s = \"Hi there Sam!\"\n",
        "s.split(\" \")"
      ],
      "execution_count": null,
      "outputs": [
        {
          "output_type": "execute_result",
          "data": {
            "text/plain": [
              "['Hi', 'there', 'Sam!']"
            ]
          },
          "metadata": {
            "tags": []
          },
          "execution_count": 4
        }
      ]
    },
    {
      "cell_type": "code",
      "metadata": {
        "id": "yrZ_29FHcE48"
      },
      "source": [
        "\n",
        "# Output: ['Hi', 'there', 'Sam!']"
      ],
      "execution_count": null,
      "outputs": []
    },
    {
      "cell_type": "markdown",
      "metadata": {
        "id": "OXt-eHdbb932"
      },
      "source": [
        "**2. Given the variables:**\n",
        "\n",
        "    planet = \"Earth\"\n",
        "    diameter = 12742\n",
        "\n",
        "**Use .format() to print the following string:**\n",
        "\n",
        "    The diameter of Earth is 12742 kilometers."
      ]
    },
    {
      "cell_type": "code",
      "metadata": {
        "id": "G4SeLTObb-ni",
        "colab": {
          "base_uri": "https://localhost:8080/"
        },
        "outputId": "854052fb-5a94-476f-b963-4b1880fc10dd"
      },
      "source": [
        "planet = \"Earth\"\n",
        "diameter = 12742\n",
        "\n",
        "print(\"The diameter of {} is {} kilometers.\".format(planet, diameter))"
      ],
      "execution_count": null,
      "outputs": [
        {
          "output_type": "stream",
          "text": [
            "The diameter of Earth is 12742 kilometers.\n"
          ],
          "name": "stdout"
        }
      ]
    },
    {
      "cell_type": "code",
      "metadata": {
        "id": "E3vULfXMcQns"
      },
      "source": [
        "\n",
        "# Output: The diameter of Earth is 12742 kilometers."
      ],
      "execution_count": null,
      "outputs": []
    },
    {
      "cell_type": "markdown",
      "metadata": {
        "id": "Jn3LrqHocwmj"
      },
      "source": [
        "**3. Create a function that grabs the email website domain from a string in the form:**\n",
        "\n",
        "    user@domain.com\n",
        "    \n",
        "**So for example, passing \"user@domain.com\" would return: domain.com**"
      ]
    },
    {
      "cell_type": "code",
      "metadata": {
        "id": "4GynBoaYcxIJ"
      },
      "source": [
        "def domain_get(email):\n",
        "  return email.split(\"@\")[1]"
      ],
      "execution_count": null,
      "outputs": []
    },
    {
      "cell_type": "code",
      "metadata": {
        "id": "TiZPSZQeczla",
        "colab": {
          "base_uri": "https://localhost:8080/",
          "height": 35
        },
        "outputId": "b10a41d4-d9e6-4233-ec17-0a79773b0a86"
      },
      "source": [
        "domain_get('user@domain.com')\n",
        "# output: 'domain.com'"
      ],
      "execution_count": null,
      "outputs": [
        {
          "output_type": "execute_result",
          "data": {
            "application/vnd.google.colaboratory.intrinsic+json": {
              "type": "string"
            },
            "text/plain": [
              "'domain.com'"
            ]
          },
          "metadata": {
            "tags": []
          },
          "execution_count": 18
        }
      ]
    },
    {
      "cell_type": "markdown",
      "metadata": {
        "id": "IqE2f4Iec5a_"
      },
      "source": [
        "**4. Use lambda expressions and the filter() function to filter out words from a list that don't start with the letter 's'. For example:**\n",
        "\n",
        "    seq = ['soup','dog','salad','cat','great']\n",
        "\n",
        "**should be filtered down to:**\n",
        "\n",
        "    ['soup','salad']"
      ]
    },
    {
      "cell_type": "code",
      "metadata": {
        "id": "WhKAh_Uzc8nk",
        "colab": {
          "base_uri": "https://localhost:8080/"
        },
        "outputId": "c72893b3-a5fa-4f11-bc52-f85df6cb3a78"
      },
      "source": [
        "seq = ['soup','dog','salad','cat','great']\n",
        "list(filter(lambda s : s[0] == 's', seq))\n"
      ],
      "execution_count": null,
      "outputs": [
        {
          "output_type": "execute_result",
          "data": {
            "text/plain": [
              "['soup', 'salad']"
            ]
          },
          "metadata": {
            "tags": []
          },
          "execution_count": 21
        }
      ]
    },
    {
      "cell_type": "code",
      "metadata": {
        "id": "WXB9R7Hbc--3"
      },
      "source": [
        "\n",
        "# output: ['soup', 'salad']"
      ],
      "execution_count": null,
      "outputs": []
    },
    {
      "cell_type": "markdown",
      "metadata": {
        "id": "o4d8aYWrdDmC"
      },
      "source": [
        "**5. Write a function to return one of 3 possible results: \"No ticket\", \"Small ticket\", or \"Big Ticket\". If your speed is 60 or less, the result is \"No Ticket\". If speed is between 61 and 80 inclusive, the result is \"Small Ticket\". If speed is 81 or more, the result is \"Big Ticket\".**"
      ]
    },
    {
      "cell_type": "code",
      "metadata": {
        "id": "7I4Z0n0MdFkP"
      },
      "source": [
        "def caught_speeding(speed):\n",
        "    if(speed <= 60):\n",
        "      return \"No Ticket\"\n",
        "    if(speed >= 81):\n",
        "      return \"Bit Ticket\"\n",
        "    return \"Small Ticket\""
      ],
      "execution_count": null,
      "outputs": []
    },
    {
      "cell_type": "code",
      "metadata": {
        "id": "QyIuG2FedHH0",
        "colab": {
          "base_uri": "https://localhost:8080/",
          "height": 35
        },
        "outputId": "dbd3109e-98f9-49c8-da3e-fe30977de465"
      },
      "source": [
        "caught_speeding(65)\n",
        "# output: 'Small Ticket'"
      ],
      "execution_count": null,
      "outputs": [
        {
          "output_type": "execute_result",
          "data": {
            "application/vnd.google.colaboratory.intrinsic+json": {
              "type": "string"
            },
            "text/plain": [
              "'Small Ticket'"
            ]
          },
          "metadata": {
            "tags": []
          },
          "execution_count": 23
        }
      ]
    },
    {
      "cell_type": "code",
      "metadata": {
        "id": "ghUvQlrxdI4U",
        "colab": {
          "base_uri": "https://localhost:8080/",
          "height": 35
        },
        "outputId": "ab7161fc-7483-485e-a963-86a6821e141e"
      },
      "source": [
        "caught_speeding(82)\n",
        "# output: 'Big Ticket'"
      ],
      "execution_count": null,
      "outputs": [
        {
          "output_type": "execute_result",
          "data": {
            "application/vnd.google.colaboratory.intrinsic+json": {
              "type": "string"
            },
            "text/plain": [
              "'Bit Ticket'"
            ]
          },
          "metadata": {
            "tags": []
          },
          "execution_count": 24
        }
      ]
    }
  ]
}